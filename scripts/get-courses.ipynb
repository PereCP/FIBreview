{
 "cells": [
  {
   "cell_type": "code",
   "execution_count": null,
   "metadata": {},
   "outputs": [],
   "source": [
    "import requests as r\n",
    "import pandas as pd\n",
    "import json\n",
    "import logging\n",
    "\n",
    "from pymongo import MongoClient\n",
    "from pymongo import UpdateOne\n",
    "\n",
    "logging.basicConfig(level=logging.INFO, force=True)\n",
    "\n",
    "with open('.env-python.local') as f:\n",
    "    env_vars = json.load(f)\n",
    "    CLIENT_ID = env_vars[\"CLIENT_ID\"]\n",
    "    MONGO_URL = env_vars[\"MONGO_URL\"]\n",
    "\n",
    "URL_API = \"https://api.fib.upc.edu/v2\"\n",
    "LANGUAGE = \"en\"\n",
    "MAX_NEW_COURSES = 50\n",
    "\n",
    "client = MongoClient(MONGO_URL)\n",
    "mongo_db = client[\"fib-review\"]\n",
    "\n",
    "def make_request(endpoint):\n",
    "    params = {\"client_id\": CLIENT_ID, \"format\": \"json\"}\n",
    "    headers = {\"Accept-Language\": LANGUAGE}\n",
    "    return r.get(f\"{URL_API}/{endpoint}\", params=params, headers=headers)\n"
   ]
  },
  {
   "cell_type": "code",
   "execution_count": null,
   "metadata": {},
   "outputs": [],
   "source": [
    "page_num = 1\n",
    "courses_json = []\n",
    "next_available = True\n",
    "\n",
    "while next_available:\n",
    "    logging.info(f\"Fetching page {page_num} of assignatures/\")\n",
    "    response = make_request(f'assignatures/?page={page_num}')\n",
    "\n",
    "    if response.ok:\n",
    "        try:\n",
    "            response_json = json.loads(response.text)\n",
    "            if 'results' not in response_json.keys():\n",
    "                logging.error(f\"results not in JSON object\")\n",
    "                raise RuntimeError(f\"results not in JSON object\")\n",
    "            if 'next' not in response_json.keys() or response_json['next'] is None:\n",
    "                next_available = False                \n",
    "            courses_json += response_json['results']\n",
    "        except Exception as e:\n",
    "            logging.error(f\"Error while parsing JSON object of assignatures/?page={page_num}: {e}\")\n",
    "            raise RuntimeError(f\"Error while parsing JSON object of assignatures/?page={page_num}: {e}\")\n",
    "    else:\n",
    "        logging.error(f\"API call to assignatures/?page={page_num} failed: <{response.status_code}>: {response.text}\")\n",
    "        raise RuntimeError(f\"API call to assignatures/?page={page_num} failed: <{response.status_code}>: {response.text}\")\n",
    "    \n",
    "    page_num += 1"
   ]
  },
  {
   "cell_type": "code",
   "execution_count": null,
   "metadata": {},
   "outputs": [],
   "source": [
    "df = pd.DataFrame(courses_json)\n",
    "df = df[['id', 'nom', 'credits', 'vigent']]\n",
    "df = df[df['vigent'] == 'S']\n",
    "df = df.drop(columns=['vigent'])\n",
    "df = df.rename(columns={'id': '_id', 'nom': 'name', 'credits': 'creditHours'})\n",
    "\n",
    "# Filter by courses not present in the database\n",
    "courses_in_db = list(mongo_db.courses.find({\"_id\": {\"$in\": list(df[\"_id\"])}}, {\"_id\": 1}))\n",
    "courses_in_db = [course[\"_id\"] for course in courses_in_db]\n",
    "df = df[~df[\"_id\"].isin(courses_in_db)]\n",
    "df = df.head(MAX_NEW_COURSES)\n",
    "\n",
    "logging.info(f\"Fetched {len(df)} new courses\")\n",
    "df.head()"
   ]
  },
  {
   "cell_type": "code",
   "execution_count": null,
   "metadata": {},
   "outputs": [],
   "source": [
    "def get_description(id):\n",
    "    response = make_request(f'assignatures/{id}/guia')\n",
    "\n",
    "    if response.ok:\n",
    "        try:\n",
    "            response_json = json.loads(response.text)\n",
    "            if 'descripcio' not in response_json.keys():\n",
    "                raise RuntimeError(f\"descripcio not in JSON object\")\n",
    "            return response_json['descripcio']\n",
    "        except Exception as e:\n",
    "            logging.warning(f\"Error while parsing JSON object of assignatures/{id}/guia/: {e}\")\n",
    "            return None\n",
    "    else:\n",
    "        logging.warning(f\"API call to assignatures/{id}/guia/ failed: <{response.status_code}>: {response.text}\")\n",
    "        return None\n",
    "    \n",
    "def make_subject_url(id):\n",
    "    if LANGUAGE == \"en\":\n",
    "        return f\"https://www.fib.upc.edu/en/studies/bachelors-degrees/bachelor-degree-informatics-engineering/curriculum/syllabus/{id}\"\n",
    "    elif LANGUAGE == \"ca\":\n",
    "        return f\"https://www.fib.upc.edu/ca/estudis/graus/grau-en-enginyeria-informatica/pla-destudis/assignatures/{id}\"\n",
    "    else:\n",
    "        return f\"https://www.fib.upc.edu/es/estudios/grados/grado-en-ingenieria-informatica/plan-de-estudios/asignaturas/{id}\"\n",
    "    \n",
    "df['description'] = df['_id'].apply(get_description)\n",
    "df = df[df['description'].notnull()]\n",
    "\n",
    "df['url'] = df['_id'].apply(make_subject_url)\n"
   ]
  },
  {
   "cell_type": "code",
   "execution_count": null,
   "metadata": {},
   "outputs": [],
   "source": [
    "df_json = df.to_dict(\"records\")\n",
    "operations = [\n",
    "    UpdateOne({'_id': course['_id']}, {'$set': course}, upsert=True)\n",
    "    for course in df_json\n",
    "]\n",
    "result = mongo_db.courses.bulk_write(operations, ordered=False)\n",
    "logging.info(\"Wrote {} new courses, updated {} courses\".format(result.upserted_count, result.matched_count))\n",
    "\n",
    "client.close()"
   ]
  }
 ],
 "metadata": {
  "kernelspec": {
   "display_name": "Python 3",
   "language": "python",
   "name": "python3"
  },
  "language_info": {
   "codemirror_mode": {
    "name": "ipython",
    "version": 3
   },
   "file_extension": ".py",
   "mimetype": "text/x-python",
   "name": "python",
   "nbconvert_exporter": "python",
   "pygments_lexer": "ipython3",
   "version": "3.10.12"
  }
 },
 "nbformat": 4,
 "nbformat_minor": 2
}
